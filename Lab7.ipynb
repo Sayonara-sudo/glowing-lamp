{
 "cells": [
  {
   "cell_type": "markdown",
   "metadata": {},
   "source": [
    "Задание 1\n",
    "\n",
    "Используйте файл с оценками фильмов ml-latest-small/ratings.csv. Посчитайте среднее время жизни пользователей, которые выставили более 100 оценок. Под временем жизни понимается разница между максимальным и минимальным значением столбца timestamp для данного значения userId."
   ]
  },
  {
   "cell_type": "code",
   "execution_count": 105,
   "metadata": {},
   "outputs": [
    {
     "name": "stdout",
     "output_type": "stream",
     "text": [
      "rating   0.5   1.0   1.5   2.0   2.5    3.0    3.5    4.0   4.5    5.0     All\n",
      "userId                                                                        \n",
      "1          0     2     0     7     3      4      1      3     0      0      20\n",
      "2          0     2     0     4     0     36      0     23     0     11      76\n",
      "3          0     0     0     1     3     18      9     11     4      5      51\n",
      "4          0     5     0     5     0     23      0     52     0    119     204\n",
      "5          0     0     1     0     3      3     27     42    19      5     100\n",
      "...      ...   ...   ...   ...   ...    ...    ...    ...   ...    ...     ...\n",
      "668        0     2     0     0     0      7      0      3     0      8      20\n",
      "669        0     0     0     7     0     14      0     12     0      4      37\n",
      "670        0     2     0     3     0      5      0     10     0     11      31\n",
      "671        0     1     0     4     4      9     13     57     8     19     115\n",
      "All     1101  3326  1687  7271  4449  20064  10538  28750  7723  15095  100004\n",
      "\n",
      "[672 rows x 11 columns]\n",
      "1136699277\n"
     ]
    }
   ],
   "source": [
    "from datetime import datetime\n",
    "ratings = pd.read_csv('ml-latest-small/ratings.csv')\n",
    "users = ratings.pivot_table(index = 'userId', columns = 'rating', values = 'timestamp', aggfunc = 'count', fill_value = 0, margins = True)\n",
    "print(users)\n",
    "\n",
    "def time(i):\n",
    "    return pd.unique(ratings[ratings['userId'] == i ]['timestamp'])\n",
    "\n",
    "i=0\n",
    "counter=0\n",
    "counter_ID=0\n",
    "for i in pd.unique(ratings['userId']):\n",
    "    if users.All[i] >= 100:\n",
    "        \n",
    "        y = time(i).sum()/len(time(i)) + counter\n",
    "        counter = y\n",
    "        counter_ID=counter_ID+1\n",
    "\n",
    "timeSrmp=int(y/counter_ID)\n",
    "print(timeSrmp)\n",
    "   "
   ]
  },
  {
   "cell_type": "markdown",
   "metadata": {},
   "source": [
    "Задание 2\n",
    "\n",
    "В файле URLs.txt содержатся url страниц новостного сайта. Вам необходимо отфильтровать его по адресам страниц с текстами новостей. Известно, что шаблон страницы новостей имеет внутри url следующую конструкцию: /, затем 8 цифр, затем дефис. Выполните следующие действия:\n",
    "\n",
    "1. Прочитайте содержимое файла с датафрейм\n",
    "2. Отфильтруйте страницы с текстом новостей, используя метод str.contains и регулярное выражение в соответствии с заданным шаблоном"
   ]
  },
  {
   "cell_type": "code",
   "execution_count": 118,
   "metadata": {},
   "outputs": [
    {
     "data": {
      "text/html": [
       "<div>\n",
       "<style scoped>\n",
       "    .dataframe tbody tr th:only-of-type {\n",
       "        vertical-align: middle;\n",
       "    }\n",
       "\n",
       "    .dataframe tbody tr th {\n",
       "        vertical-align: top;\n",
       "    }\n",
       "\n",
       "    .dataframe thead th {\n",
       "        text-align: right;\n",
       "    }\n",
       "</style>\n",
       "<table border=\"1\" class=\"dataframe\">\n",
       "  <thead>\n",
       "    <tr style=\"text-align: right;\">\n",
       "      <th></th>\n",
       "      <th>url</th>\n",
       "    </tr>\n",
       "  </thead>\n",
       "  <tbody>\n",
       "    <tr>\n",
       "      <th>3</th>\n",
       "      <td>/politics/36188461-s-marta-zhizn-rossiyan-susc...</td>\n",
       "    </tr>\n",
       "    <tr>\n",
       "      <th>4</th>\n",
       "      <td>/world/36007585-tramp-pridumal-kak-reshit-ukra...</td>\n",
       "    </tr>\n",
       "    <tr>\n",
       "      <th>5</th>\n",
       "      <td>/science/36157853-nasa-sobiraet-ekstrennuyu-pr...</td>\n",
       "    </tr>\n",
       "    <tr>\n",
       "      <th>6</th>\n",
       "      <td>/video/36001498-poyavilis-pervye-podrobnosti-g...</td>\n",
       "    </tr>\n",
       "    <tr>\n",
       "      <th>7</th>\n",
       "      <td>/world/36007585-tramp-pridumal-kak-reshit-ukra...</td>\n",
       "    </tr>\n",
       "  </tbody>\n",
       "</table>\n",
       "</div>"
      ],
      "text/plain": [
       "                                                 url\n",
       "3  /politics/36188461-s-marta-zhizn-rossiyan-susc...\n",
       "4  /world/36007585-tramp-pridumal-kak-reshit-ukra...\n",
       "5  /science/36157853-nasa-sobiraet-ekstrennuyu-pr...\n",
       "6  /video/36001498-poyavilis-pervye-podrobnosti-g...\n",
       "7  /world/36007585-tramp-pridumal-kak-reshit-ukra..."
      ]
     },
     "execution_count": 118,
     "metadata": {},
     "output_type": "execute_result"
    }
   ],
   "source": [
    "import pandas as pd\n",
    "table = pd.read_csv('URLs.txt ',sep='\\t')\n",
    "table[table.url.str.contains('/'and '1234567890' and '-')].head()"
   ]
  },
  {
   "cell_type": "markdown",
   "metadata": {},
   "source": [
    "Домашнее задание 3\n",
    "\n",
    "В датафрейме data создайте столбец lemmas, в котором вычислите леммы поисковых запросов из столбца keyword. Леммы должны иметь строковый тип."
   ]
  },
  {
   "cell_type": "code",
   "execution_count": 129,
   "metadata": {},
   "outputs": [],
   "source": [
    "data = pd.DataFrame({\n",
    "    'keyword': ['курс гривны к рублю', 'доллары в рубли', '100 долларов в рублях', 'курс рубля'],\n",
    "    'shows': [125076, 114173, 97534, 53546],\n",
    "})"
   ]
  },
  {
   "cell_type": "code",
   "execution_count": 149,
   "metadata": {},
   "outputs": [
    {
     "name": "stdout",
     "output_type": "stream",
     "text": [
      "                 keyword   shows                        lemmas\n",
      "0    курс гривны к рублю  125076  курс   гривна   к   рубль \\n\n",
      "1        доллары в рубли  114173         доллар   в   рубль \\n\n",
      "2  100 долларов в рублях   97534   100   доллар   в   рубль \\n\n",
      "3             курс рубля   53546               курс   рубль \\n\n"
     ]
    }
   ],
   "source": [
    "import pandas as pd\n",
    "from pymystem3 import Mystem\n",
    "\n",
    "m = Mystem()\n",
    "i=0\n",
    "my_list=[]\n",
    "while i<4:\n",
    "    lemmas = m.lemmatize(data.keyword[i])\n",
    "    delimiter = ' '\n",
    "    output = delimiter.join(lemmas)\n",
    "    my_list.append(output)\n",
    "    i=i+1\n",
    "    \n",
    "'''\n",
    "lemmas = m.lemmatize(data.keyword[1])\n",
    "delimiter = ' '\n",
    "output = delimiter.join(lemmas)\n",
    "print(output)\n",
    "'''\n",
    "\n",
    "data['lemmas'] = my_list\n",
    "print(data)"
   ]
  },
  {
   "cell_type": "code",
   "execution_count": null,
   "metadata": {},
   "outputs": [],
   "source": []
  }
 ],
 "metadata": {
  "kernelspec": {
   "display_name": "Python 3",
   "language": "python",
   "name": "python3"
  },
  "language_info": {
   "codemirror_mode": {
    "name": "ipython",
    "version": 3
   },
   "file_extension": ".py",
   "mimetype": "text/x-python",
   "name": "python",
   "nbconvert_exporter": "python",
   "pygments_lexer": "ipython3",
   "version": "3.8.3"
  }
 },
 "nbformat": 4,
 "nbformat_minor": 4
}

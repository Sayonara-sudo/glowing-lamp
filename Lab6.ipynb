{
 "cells": [
  {
   "cell_type": "markdown",
   "metadata": {},
   "source": [
    "Задание 1\n",
    "\n",
    "Скачайте с сайта https://grouplens.org/datasets/movielens/ датасет любого размера. Определите какому фильму было выставлено больше всего оценок 5.0."
   ]
  },
  {
   "cell_type": "code",
   "execution_count": 125,
   "metadata": {},
   "outputs": [
    {
     "data": {
      "text/plain": [
       "318      153\n",
       "296      123\n",
       "356      116\n",
       "2571     109\n",
       "260      104\n",
       "        ... \n",
       "45672      1\n",
       "2822       1\n",
       "611        1\n",
       "8807       1\n",
       "83969      1\n",
       "Name: movieId, Length: 2954, dtype: int64"
      ]
     },
     "execution_count": 125,
     "metadata": {},
     "output_type": "execute_result"
    }
   ],
   "source": [
    "import pandas as pd\n",
    "ratings = pd.read_csv('ml-latest-small/ratings.csv')\n",
    "fating_filter = ratings.query('rating == {}'.format(5))\n",
    "fating_filter['movieId'].value_counts()"
   ]
  },
  {
   "cell_type": "markdown",
   "metadata": {},
   "source": [
    "Задание 2\n",
    "\n",
    "По данным файла power.csv посчитайте суммарное потребление стран Прибалтики (Латвия, Литва и Эстония) категорий 4, 12 и 21 за период с 2005 по 2010 года. Не учитывайте в расчетах отрицательные значения quantity."
   ]
  },
  {
   "cell_type": "code",
   "execution_count": 65,
   "metadata": {},
   "outputs": [
    {
     "name": "stdout",
     "output_type": "stream",
     "text": [
      "704714.0\n"
     ]
    }
   ],
   "source": [
    "import pandas as pd\n",
    "power = pd.read_csv('power.csv')\n",
    "\n",
    "baltic_state = power[ ((power['country']=='Latvia') | (power['country']=='Lithuania') | (power['country']=='Lithuania')) & ((power['category']== 4) | (power['category']== 12) | (power['category']==21)) & (power['quantity']>=0) & ((power['year']>= 2005) | (power['year']<=2010))]\n",
    "print(sum(baltic_state['quantity']))\n"
   ]
  },
  {
   "cell_type": "markdown",
   "metadata": {},
   "source": [
    "Задание 3\n",
    "\n",
    "Выберите страницу любого сайта с табличными данными. Импортируйте таблицы в pandas dataframe.\n",
    "Примеры страниц (необязательно брать именно эти):\n",
    "https://fortrader.org/quotes\n",
    "https://www.finanz.ru/valyuty/v-realnom-vremeni"
   ]
  },
  {
   "cell_type": "code",
   "execution_count": 80,
   "metadata": {},
   "outputs": [
    {
     "data": {
      "text/plain": [
       "[    Unnamed: 0              Рубль  Предложение  Спрос  Предыдущее закрытие  \\\n",
       " 0          NaN            GBP/RUB      1008887      -              1010269   \n",
       " 1          NaN            EUR/RUB       918860      -               920540   \n",
       " 2          NaN            USD/RUB       781627      -               784553   \n",
       " 3          NaN            JPY/RUB        07393      -                07427   \n",
       " 4          NaN            CNY/RUB       115102      -               115537   \n",
       " 5          NaN            CHF/RUB       852472      -               854540   \n",
       " 6          NaN               Евро  Предложение  Спрос  Предыдущее закрытие   \n",
       " 7          NaN            EUR/USD        11755      -                11733   \n",
       " 8          NaN            EUR/GBP        09106      -                09115   \n",
       " 9          NaN            EUR/JPY      1242800      -              1239500   \n",
       " 10         NaN            EUR/CHF        10778      -                10772   \n",
       " 11         NaN         Доллар США  Предложение  Спрос  Предыдущее закрытие   \n",
       " 12         NaN            USD/EUR        08507      -                08523   \n",
       " 13         NaN            USD/GBP        07748      -                07766   \n",
       " 14         NaN            USD/JPY      1057280      -              1056360   \n",
       " 15         NaN            USD/CHF        09171      -                09179   \n",
       " 16         NaN      Японская иена  Предложение  Спрос  Предыдущее закрытие   \n",
       " 17         NaN    JPY/EUR (100:1)        08000      -                08100   \n",
       " 18         NaN            JPY/GBP        00073      -                00074   \n",
       " 19         NaN            JPY/USD        00095      -                00095   \n",
       " 20         NaN    JPY/CHF (100:1)        08700      -                08700   \n",
       " 21         NaN    Фунт стерлингов  Предложение  Спрос  Предыдущее закрытие   \n",
       " 22         NaN            GBP/USD        12908      -                12877   \n",
       " 23         NaN            GBP/JPY      1364577      -              1360249   \n",
       " 24         NaN            GBP/EUR        10982      -                10976   \n",
       " 25         NaN            GBP/CHF        11836      -                11820   \n",
       " 26         NaN  Швейцарский франк  Предложение  Спрос  Предыдущее закрытие   \n",
       " 27         NaN            GBP/CHF        11836      -                11820   \n",
       " 28         NaN            EUR/CHF        10778      -                10772   \n",
       " 29         NaN    JPY/CHF (100:1)        08700      -                08700   \n",
       " 30         NaN            USD/CHF        09171      -                09179   \n",
       " 31         NaN  Украинская гривна  Предложение  Спрос  Предыдущее закрытие   \n",
       " 32         NaN            EUR/UAH       333358      -               332762   \n",
       " 33         NaN            USD/UAH       283600      -               283600   \n",
       " 34         NaN            CHF/UAH       309303      -               308899   \n",
       " 35         NaN            GBP/UAH       366014      -               365192   \n",
       " \n",
       "           %  Абсолютное значение     Время  \n",
       " 0   -0,14 %               -01382  09:58:00  \n",
       " 1   -0,18 %               -01680  09:57:00  \n",
       " 2   -0,37 %               -02926  09:57:00  \n",
       " 3   -0,46 %               -00035  09:57:00  \n",
       " 4   -0,38 %               -00435  09:57:00  \n",
       " 5   -0,24 %               -02068  09:57:00  \n",
       " 6         %  Абсолютное значение     Время  \n",
       " 7    0,19 %                00023  09:57:00  \n",
       " 8   -0,09 %               -00008  09:57:00  \n",
       " 9    0,27 %                03300  09:57:00  \n",
       " 10   0,06 %                00006  09:57:00  \n",
       " 11        %  Абсолютное значение     Время  \n",
       " 12  -0,18 %               -00015  09:57:00  \n",
       " 13  -0,22 %               -00018  09:57:00  \n",
       " 14   0,09 %                00920  09:57:00  \n",
       " 15  -0,09 %               -00008  09:57:00  \n",
       " 16        %  Абсолютное значение     Время  \n",
       " 17  -0,28 %                00000  09:57:00  \n",
       " 18  -0,32 %                00000  09:57:00  \n",
       " 19  -0,09 %                00000  09:57:00  \n",
       " 20  -0,21 %                00000  09:57:00  \n",
       " 21        %  Абсолютное значение     Время  \n",
       " 22   0,24 %                00031  09:57:00  \n",
       " 23   0,32 %                04328  09:57:00  \n",
       " 24   0,05 %                00006  09:57:00  \n",
       " 25   0,14 %                00016  09:57:00  \n",
       " 26        %  Абсолютное значение     Время  \n",
       " 27   0,14 %                00016  09:57:00  \n",
       " 28   0,06 %                00006  09:57:00  \n",
       " 29  -0,21 %                00000  09:57:00  \n",
       " 30  -0,09 %               -00008  09:57:00  \n",
       " 31        %  Абсолютное значение     Время  \n",
       " 32   0,18 %                00596  09:57:00  \n",
       " 33   0,00 %                00000  09:55:00  \n",
       " 34   0,13 %                00404  09:57:00  \n",
       " 35   0,23 %                00822  09:57:00  ]"
      ]
     },
     "execution_count": 80,
     "metadata": {},
     "output_type": "execute_result"
    }
   ],
   "source": [
    "import pandas as pd\n",
    "page_url = 'https://www.finanz.ru/valyuty/v-realnom-vremeni'\n",
    "df = pd.read_html(page_url, attrs = {'class': 'quote_list'}, encoding='utf-8')\n",
    "df[:5]"
   ]
  },
  {
   "cell_type": "markdown",
   "metadata": {},
   "source": [
    "Задание 4\n",
    "\n",
    "Напишите функцию, которая классифицирует фильмы из материалов занятия по следующим правилам:\n",
    "- оценка 2 и меньше - низкий рейтинг\n",
    "- оценка 4 и меньше - средний рейтинг\n",
    "- оценка 4.5 и 5 - высокий рейтинг\n",
    "\n",
    "Результат классификации запишите в столбец class"
   ]
  },
  {
   "cell_type": "code",
   "execution_count": 124,
   "metadata": {},
   "outputs": [
    {
     "data": {
      "text/plain": [
       "(100836, 5)"
      ]
     },
     "execution_count": 124,
     "metadata": {},
     "output_type": "execute_result"
    }
   ],
   "source": [
    "def rating_classfication(rating):\n",
    "    if int(rating) <= 2:\n",
    "        return 'lowest rating'\n",
    "    elif int(rating) <= 4:\n",
    "        return 'average rating'\n",
    "    elif int(rating)  <= 5:\n",
    "        return 'high rating'\n",
    "    return 'error'\n",
    "\n",
    "\n",
    "import pandas as pd\n",
    "ratings = pd.read_csv('ml-latest-small/ratings.csv')\n",
    "i = 0\n",
    "while i < len(ratings):\n",
    "   #print (ratings.movieId[i])\n",
    "    ratings['class'] = rating_classfication(ratings.rating[i])\n",
    "    i = i + 1\n",
    "ratings.shape\n",
    "\n"
   ]
  },
  {
   "cell_type": "markdown",
   "metadata": {},
   "source": [
    "Задание 5\n",
    "\n",
    "Используем файл keywords.csv.\n",
    "\n",
    "Необходимо написать гео-классификатор, который каждой строке сможет выставить географическую принадлежность определенному региону. Т. е. если поисковый запрос содержит название города региона, то в столбце ‘region’ пишется название этого региона. Если поисковый запрос не содержит названия города, то ставим ‘undefined’.\n",
    "\n",
    "Правила распределения по регионам Центр, Северо-Запад и Дальний Восток:\n",
    "\n",
    "geo_data = {\n",
    "'Центр': ['москва', 'тула', 'ярославль'],\n",
    "'Северо-Запад': ['петербург', 'псков', 'мурманск'],\n",
    "'Дальний Восток': ['владивосток', 'сахалин', 'хабаровск']\n",
    "}\n",
    "\n",
    "Результат классификации запишите в отдельный столбец region."
   ]
  },
  {
   "cell_type": "code",
   "execution_count": null,
   "metadata": {},
   "outputs": [],
   "source": []
  },
  {
   "cell_type": "markdown",
   "metadata": {},
   "source": [
    "Задание 6\n",
    "\n",
    "Есть мнение, что “раньше снимали настоящее кино, не то что сейчас”. Ваша задача проверить это утверждение, используя файлы с рейтингами фильмов из прошлого домашнего занятия (файл ratings.csv из базы https://grouplens.org/datasets/movielens). Т. е. проверить верно ли, что с ростом года выпуска фильма его средний рейтинг становится ниже.\n",
    "\n",
    "При этом мы не будем затрагивать субьективные факторы выставления этих рейтингов, а пройдемся по следующему алгоритму:\n",
    "\n",
    "В переменную years запишите список из всех годов с 1950 по 2010.\n",
    "\n",
    "Напишите функцию production_year, которая каждой строке из названия фильма выставляет год выпуска. Не все названия фильмов содержат год выпуска в одинаковом формате, поэтому используйте следующий алгоритм:\n",
    "\n",
    "для каждой строки пройдите по всем годам списка years\n",
    "если номер года присутствует в названии фильма, то функция возвращает этот год как год выпуска\n",
    "если ни один из номеров года списка years не встретился в названии фильма, то возвращается 1900 год\n",
    "Запишите год выпуска фильма по алгоритму пункта 2 в новый столбец ‘year’\n",
    "\n",
    "Посчитайте средний рейтинг всех фильмов для каждого значения столбца ‘year’ и отсортируйте результат по убыванию рейтинга"
   ]
  },
  {
   "cell_type": "code",
   "execution_count": 37,
   "metadata": {},
   "outputs": [
    {
     "ename": "KeyboardInterrupt",
     "evalue": "",
     "output_type": "error",
     "traceback": [
      "\u001b[1;31m---------------------------------------------------------------------------\u001b[0m",
      "\u001b[1;31mKeyboardInterrupt\u001b[0m                         Traceback (most recent call last)",
      "\u001b[1;32m<ipython-input-37-0c443720b73d>\u001b[0m in \u001b[0;36m<module>\u001b[1;34m\u001b[0m\n\u001b[0;32m     18\u001b[0m \u001b[1;32mwhile\u001b[0m \u001b[0myear\u001b[0m \u001b[1;33m<=\u001b[0m \u001b[1;36m2010\u001b[0m\u001b[1;33m:\u001b[0m\u001b[1;33m\u001b[0m\u001b[1;33m\u001b[0m\u001b[0m\n\u001b[0;32m     19\u001b[0m     \u001b[1;32mwhile\u001b[0m \u001b[0mj\u001b[0m \u001b[1;33m<\u001b[0m \u001b[0mlen\u001b[0m\u001b[1;33m(\u001b[0m\u001b[0mmovies\u001b[0m\u001b[1;33m)\u001b[0m\u001b[1;33m:\u001b[0m\u001b[1;33m\u001b[0m\u001b[1;33m\u001b[0m\u001b[0m\n\u001b[1;32m---> 20\u001b[1;33m         \u001b[1;32mif\u001b[0m \u001b[0myear\u001b[0m \u001b[1;33m==\u001b[0m \u001b[0mint\u001b[0m\u001b[1;33m(\u001b[0m\u001b[0mmovies\u001b[0m\u001b[1;33m.\u001b[0m\u001b[0myear\u001b[0m\u001b[1;33m[\u001b[0m\u001b[0mj\u001b[0m\u001b[1;33m]\u001b[0m\u001b[1;33m)\u001b[0m\u001b[1;33m:\u001b[0m\u001b[1;33m\u001b[0m\u001b[1;33m\u001b[0m\u001b[0m\n\u001b[0m\u001b[0;32m     21\u001b[0m             \u001b[0mrating_movies\u001b[0m\u001b[1;33m=\u001b[0m\u001b[0mratings\u001b[0m\u001b[1;33m.\u001b[0m\u001b[0mrating\u001b[0m\u001b[1;33m[\u001b[0m\u001b[0mj\u001b[0m\u001b[1;33m]\u001b[0m\u001b[1;33m+\u001b[0m\u001b[0mrating_movies\u001b[0m\u001b[1;33m\u001b[0m\u001b[1;33m\u001b[0m\u001b[0m\n\u001b[0;32m     22\u001b[0m             \u001b[0mcounter\u001b[0m\u001b[1;33m+=\u001b[0m\u001b[1;36m1\u001b[0m\u001b[1;33m\u001b[0m\u001b[1;33m\u001b[0m\u001b[0m\n",
      "\u001b[1;32m~\\anaconda3\\lib\\site-packages\\pandas\\core\\generic.py\u001b[0m in \u001b[0;36m__getattr__\u001b[1;34m(self, name)\u001b[0m\n\u001b[0;32m   5271\u001b[0m         \u001b[1;32melse\u001b[0m\u001b[1;33m:\u001b[0m\u001b[1;33m\u001b[0m\u001b[1;33m\u001b[0m\u001b[0m\n\u001b[0;32m   5272\u001b[0m             \u001b[1;32mif\u001b[0m \u001b[0mself\u001b[0m\u001b[1;33m.\u001b[0m\u001b[0m_info_axis\u001b[0m\u001b[1;33m.\u001b[0m\u001b[0m_can_hold_identifiers_and_holds_name\u001b[0m\u001b[1;33m(\u001b[0m\u001b[0mname\u001b[0m\u001b[1;33m)\u001b[0m\u001b[1;33m:\u001b[0m\u001b[1;33m\u001b[0m\u001b[1;33m\u001b[0m\u001b[0m\n\u001b[1;32m-> 5273\u001b[1;33m                 \u001b[1;32mreturn\u001b[0m \u001b[0mself\u001b[0m\u001b[1;33m[\u001b[0m\u001b[0mname\u001b[0m\u001b[1;33m]\u001b[0m\u001b[1;33m\u001b[0m\u001b[1;33m\u001b[0m\u001b[0m\n\u001b[0m\u001b[0;32m   5274\u001b[0m             \u001b[1;32mreturn\u001b[0m \u001b[0mobject\u001b[0m\u001b[1;33m.\u001b[0m\u001b[0m__getattribute__\u001b[0m\u001b[1;33m(\u001b[0m\u001b[0mself\u001b[0m\u001b[1;33m,\u001b[0m \u001b[0mname\u001b[0m\u001b[1;33m)\u001b[0m\u001b[1;33m\u001b[0m\u001b[1;33m\u001b[0m\u001b[0m\n\u001b[0;32m   5275\u001b[0m \u001b[1;33m\u001b[0m\u001b[0m\n",
      "\u001b[1;32m~\\anaconda3\\lib\\site-packages\\pandas\\core\\frame.py\u001b[0m in \u001b[0;36m__getitem__\u001b[1;34m(self, key)\u001b[0m\n\u001b[0;32m   2774\u001b[0m                 \u001b[1;32mif\u001b[0m \u001b[0mself\u001b[0m\u001b[1;33m.\u001b[0m\u001b[0mcolumns\u001b[0m\u001b[1;33m.\u001b[0m\u001b[0mnlevels\u001b[0m \u001b[1;33m>\u001b[0m \u001b[1;36m1\u001b[0m\u001b[1;33m:\u001b[0m\u001b[1;33m\u001b[0m\u001b[1;33m\u001b[0m\u001b[0m\n\u001b[0;32m   2775\u001b[0m                     \u001b[1;32mreturn\u001b[0m \u001b[0mself\u001b[0m\u001b[1;33m.\u001b[0m\u001b[0m_getitem_multilevel\u001b[0m\u001b[1;33m(\u001b[0m\u001b[0mkey\u001b[0m\u001b[1;33m)\u001b[0m\u001b[1;33m\u001b[0m\u001b[1;33m\u001b[0m\u001b[0m\n\u001b[1;32m-> 2776\u001b[1;33m                 \u001b[1;32mreturn\u001b[0m \u001b[0mself\u001b[0m\u001b[1;33m.\u001b[0m\u001b[0m_get_item_cache\u001b[0m\u001b[1;33m(\u001b[0m\u001b[0mkey\u001b[0m\u001b[1;33m)\u001b[0m\u001b[1;33m\u001b[0m\u001b[1;33m\u001b[0m\u001b[0m\n\u001b[0m\u001b[0;32m   2777\u001b[0m \u001b[1;33m\u001b[0m\u001b[0m\n\u001b[0;32m   2778\u001b[0m         \u001b[1;31m# Do we have a slicer (on rows)?\u001b[0m\u001b[1;33m\u001b[0m\u001b[1;33m\u001b[0m\u001b[1;33m\u001b[0m\u001b[0m\n",
      "\u001b[1;31mKeyboardInterrupt\u001b[0m: "
     ]
    }
   ],
   "source": [
    "\n",
    "\n",
    "import pandas as pd\n",
    "ratings = pd.read_csv('ml-latest-small/ratings.csv')\n",
    "movies = pd.read_csv('ml-latest-small/movies.csv')\n",
    "i=0 \n",
    "j=0\n",
    "while i < len(movies):\n",
    "    r = movies.title[i].replace('(','').replace(')','')\n",
    "    my_list = r.split()\n",
    "    movies['year'] = my_list[-1]\n",
    "    i = i + 1\n",
    "    \n",
    "counter=0\n",
    "rating_movies=0\n",
    "rating_mid=[len(movies)]\n",
    "k=0\n",
    "\n",
    "year = 1950\n",
    "while year <= 2010:\n",
    "    while j < len(movies):\n",
    "        if year == int(movies.year[j]):\n",
    "            rating_movies=ratings.rating[j]+rating_movies\n",
    "            counter+=1\n",
    "        if counter != 0:\n",
    "            rating_mid[k]=rating_movies/counter\n",
    "            rating_mid.insert(k,ratings.moveId[j])\n",
    "            k+=1\n",
    "    year=year+1\n",
    "    \n",
    "'''\n",
    "\n",
    "r = movies.title[7000].replace('(','').replace(')','')\n",
    "my_list = r.split()\n",
    "y = int(my_list[-1])\n",
    "\n",
    "#r = movies.title[1].replace('(','').replace(')','')\n",
    "#my_list = r.split()\n",
    "#my_list.sort()\n",
    "#del(my_list[0])\n",
    "#y = int(my_list[0])\n",
    "print(y)\n",
    "if y == 1995:\n",
    "    print(2)\n",
    "    \n",
    "    \n",
    "if movies.year[1] == 1991:\n",
    "    print(1)\n",
    "print(movies.year[1])\n",
    "'''\n",
    "movies.shape"
   ]
  },
  {
   "cell_type": "code",
   "execution_count": null,
   "metadata": {},
   "outputs": [],
   "source": []
  }
 ],
 "metadata": {
  "kernelspec": {
   "display_name": "Python 3",
   "language": "python",
   "name": "python3"
  },
  "language_info": {
   "codemirror_mode": {
    "name": "ipython",
    "version": 3
   },
   "file_extension": ".py",
   "mimetype": "text/x-python",
   "name": "python",
   "nbconvert_exporter": "python",
   "pygments_lexer": "ipython3",
   "version": "3.8.3"
  }
 },
 "nbformat": 4,
 "nbformat_minor": 4
}
